{
  "cells": [
    {
      "cell_type": "markdown",
      "metadata": {
        "id": "uDHjphhxgDEo"
      },
      "source": [
        "## Land Use Classification | Prepare Dataset\n",
        "\n",
        "The data for this project comes from the German Reseach Center for Artificial Intelligence's open source EuroSAT Sentinel-2 satellite image [dataset](http://madm.dfki.de/downloads). The data was downloaded locally and split into train, validation, and test folders suitable for keras using this notebook."
      ]
    },
    {
      "cell_type": "code",
      "execution_count": null,
      "metadata": {
        "id": "iGyiq7tHgDEq"
      },
      "outputs": [],
      "source": [
        "import os\n",
        "import shutil\n",
        "import random\n",
        "from osgeo import gdal"
      ]
    },
    {
      "cell_type": "code",
      "execution_count": null,
      "metadata": {
        "id": "jX70rM13gDEr"
      },
      "outputs": [],
      "source": [
        "path = \"/Users/limesncoconuts2/datasets/\"\n",
        "SEED = random.seed(123)"
      ]
    },
    {
      "cell_type": "code",
      "execution_count": null,
      "metadata": {
        "id": "yh-Rs2degDEs"
      },
      "outputs": [],
      "source": [
        "# get names of categories\n",
        "categories = []\n",
        "tif_files = []\n",
        "for (dirpath, dirnames, filenames) in os.walk(path + 'land-use-tif/'):\n",
        "    categories.extend(dirnames)\n",
        "    tif_files += filenames\n",
        "\n",
        "# Check if '.DS_Store' exists in the list before attempting removal\n",
        "if '.DS_Store' in tif_files:\n",
        "    tif_files.remove('.DS_Store')"
      ]
    },
    {
      "cell_type": "code",
      "execution_count": null,
      "metadata": {
        "id": "dOJG6p2egDEs"
      },
      "outputs": [],
      "source": [
        "# create new folder with test train and valid sets with folders of all categories\n",
        "\n",
        "# make train, test, valid folders\n",
        "split_names = ['train', 'test', 'valid']\n",
        "for sp_name in split_names:\n",
        "    directory = path + 'land-use-jpeg/' + sp_name + '/'\n",
        "    if not os.path.exists(directory):\n",
        "        os.makedirs(directory)\n",
        "    # make category folders\n",
        "    for category in categories:\n",
        "        dir_cat = directory + category + '/'\n",
        "        if not os.path.exists(dir_cat):\n",
        "            os.makedirs(dir_cat)"
      ]
    },
    {
      "cell_type": "code",
      "execution_count": null,
      "metadata": {
        "id": "b_mtprP7gDEt"
      },
      "outputs": [],
      "source": [
        "%%capture\n",
        "for category in categories:\n",
        "    directory = path + 'land-use-tif/' + category + '/'\n",
        "    directory_train = path + 'land-use-jpeg/train/' + category + '/'\n",
        "    directory_valid = path + 'land-use-jpeg/test/' + category + '/'\n",
        "    directory_test = path + 'land-use-jpeg/valid/' + category + '/'\n",
        "\n",
        "    cat_files = os.listdir(directory)\n",
        "\n",
        "    if '.DS_Store' in cat_files:\n",
        "        cat_files.remove('.DS_Store')\n",
        "\n",
        "    # translate files from .tif to .jpeg\n",
        "    for file in cat_files:\n",
        "        file_no_ext = file.split('.')[0] # separate file name from extension\n",
        "        img_in = directory + file\n",
        "        img_out = directory + file_no_ext + '.jpeg'\n",
        "\n",
        "        if not os.path.exists(directory_train + file_no_ext + '.jpeg'):\n",
        "            !gdal_translate -of JPEG $img_in $img_out -b 2 -b 3 -b 4 -scale # RGB bands\n",
        "            if os.path.exists(img_out):\n",
        "                shutil.move(img_out, directory_train + file_no_ext + '.jpeg')\n",
        "\n",
        "    # remove .xml files that come from translation\n",
        "    for item in cat_files:\n",
        "        if item.endswith(\".xml\"):\n",
        "            os.remove(os.path.join(directory, item))\n",
        "\n",
        "    # sort files into test and valid folders\n",
        "    filenames = os.listdir(directory_train)\n",
        "    filenames.sort()\n",
        "    if '.DS_Store' in filenames:\n",
        "        filenames.remove('.DS_Store')\n",
        "    random.shuffle(filenames)\n",
        "    split_1 = int(0.8 * len(filenames))\n",
        "    split_2 = int(0.9 * len(filenames))\n",
        "    train_filenames = filenames[:split_1]\n",
        "    valid_filenames = filenames[split_1:split_2]\n",
        "    test_filenames = filenames[split_2:]\n",
        "\n",
        "    for file in filenames:\n",
        "        if file in valid_filenames:\n",
        "            shutil.move(directory_train + file, directory_valid + file)\n",
        "        elif file in test_filenames:\n",
        "            shutil.move(directory_train + file, directory_test + file)"
      ]
    }
  ],
  "metadata": {
    "kernelspec": {
      "display_name": "Python 3",
      "language": "python",
      "name": "python3"
    },
    "language_info": {
      "codemirror_mode": {
        "name": "ipython",
        "version": 3
      },
      "file_extension": ".py",
      "mimetype": "text/x-python",
      "name": "python",
      "nbconvert_exporter": "python",
      "pygments_lexer": "ipython3",
      "version": "3.7.2"
    },
    "colab": {
      "provenance": []
    }
  },
  "nbformat": 4,
  "nbformat_minor": 0
}